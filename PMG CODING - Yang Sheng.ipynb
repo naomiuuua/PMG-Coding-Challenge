{
 "cells": [
  {
   "cell_type": "markdown",
   "metadata": {},
   "source": [
    "# PMG Coding Challenge - Yang Sheng"
   ]
  },
  {
   "cell_type": "code",
   "execution_count": 1,
   "metadata": {},
   "outputs": [],
   "source": [
    "#import the packages\n",
    "import pandas as pd\n",
    "import os"
   ]
  },
  {
   "cell_type": "code",
   "execution_count": 5,
   "metadata": {},
   "outputs": [],
   "source": [
    "#upload csv files in jupyter notebook under folder data\n",
    "csv_path = 'data/'"
   ]
  },
  {
   "cell_type": "code",
   "execution_count": 6,
   "metadata": {},
   "outputs": [],
   "source": [
    "#get the files\n",
    "csv_files = os.listdir(csv_path)"
   ]
  },
  {
   "cell_type": "code",
   "execution_count": 11,
   "metadata": {},
   "outputs": [],
   "source": [
    "combine_df = pd.DataFrame()\n",
    "for filename in csv_files:\n",
    "    df = pd.read_csv(csv_path+'acc.csv',header=None,skiprows=1)[0].str.split(',',expand=True)\n",
    "    name = os.path.splitext(filename)[0]\n",
    "    df['filename'] = name\n",
    "    combine_df = combine_df.append(df,ignore_index=True)\n",
    "combine_df.columns = ['email_hash','category','filename']"
   ]
  },
  {
   "cell_type": "code",
   "execution_count": 12,
   "metadata": {},
   "outputs": [
    {
     "data": {
      "text/html": [
       "<div>\n",
       "<style scoped>\n",
       "    .dataframe tbody tr th:only-of-type {\n",
       "        vertical-align: middle;\n",
       "    }\n",
       "\n",
       "    .dataframe tbody tr th {\n",
       "        vertical-align: top;\n",
       "    }\n",
       "\n",
       "    .dataframe thead th {\n",
       "        text-align: right;\n",
       "    }\n",
       "</style>\n",
       "<table border=\"1\" class=\"dataframe\">\n",
       "  <thead>\n",
       "    <tr style=\"text-align: right;\">\n",
       "      <th></th>\n",
       "      <th>email_hash</th>\n",
       "      <th>category</th>\n",
       "      <th>filename</th>\n",
       "    </tr>\n",
       "  </thead>\n",
       "  <tbody>\n",
       "    <tr>\n",
       "      <td>0</td>\n",
       "      <td>b9f6f22276c919da793da65c76345ebb0b072257d12402...</td>\n",
       "      <td>\"Satchels\"</td>\n",
       "      <td>acc</td>\n",
       "    </tr>\n",
       "    <tr>\n",
       "      <td>1</td>\n",
       "      <td>c2b5fa9e09ef2464a2b9ed7e351a5e1499823083c05791...</td>\n",
       "      <td>\"Purses\"</td>\n",
       "      <td>acc</td>\n",
       "    </tr>\n",
       "    <tr>\n",
       "      <td>2</td>\n",
       "      <td>faaee0ff7d06b05313ecb75d46a9aed014b11023ca1af5...</td>\n",
       "      <td>\"Purses\"</td>\n",
       "      <td>acc</td>\n",
       "    </tr>\n",
       "    <tr>\n",
       "      <td>3</td>\n",
       "      <td>5cd72da5035f2b36b604a16efc639cd04b6cfae7e487dc...</td>\n",
       "      <td>\"Wallets\"</td>\n",
       "      <td>acc</td>\n",
       "    </tr>\n",
       "    <tr>\n",
       "      <td>4</td>\n",
       "      <td>00449a86bb34e443a5f84635661f63514574a030a15e2e...</td>\n",
       "      <td>\"Purses\"</td>\n",
       "      <td>acc</td>\n",
       "    </tr>\n",
       "    <tr>\n",
       "      <td>...</td>\n",
       "      <td>...</td>\n",
       "      <td>...</td>\n",
       "      <td>...</td>\n",
       "    </tr>\n",
       "    <tr>\n",
       "      <td>425</td>\n",
       "      <td>1f89b9e5e91e28b448103d8d14c8802382523934d439b9...</td>\n",
       "      <td>\"Satchels\"</td>\n",
       "      <td>clothes</td>\n",
       "    </tr>\n",
       "    <tr>\n",
       "      <td>426</td>\n",
       "      <td>957f3cdcd5a5f9dcc0137377648b939c60d2fbb980110c...</td>\n",
       "      <td>\"Watches\"</td>\n",
       "      <td>clothes</td>\n",
       "    </tr>\n",
       "    <tr>\n",
       "      <td>427</td>\n",
       "      <td>03ec8c2e6a17903af7f2a0b604127f91a6be38caa04d84...</td>\n",
       "      <td>\"Satchels\"</td>\n",
       "      <td>clothes</td>\n",
       "    </tr>\n",
       "    <tr>\n",
       "      <td>428</td>\n",
       "      <td>3b13daf29e360d56a4e80046c763bd925b8cbe60870d5c...</td>\n",
       "      <td>\"Satchels\"</td>\n",
       "      <td>clothes</td>\n",
       "    </tr>\n",
       "    <tr>\n",
       "      <td>429</td>\n",
       "      <td>99f59bddbb78a2ee92b520dd1674ae986f406809d6a1ea...</td>\n",
       "      <td>\"Satchels\"</td>\n",
       "      <td>clothes</td>\n",
       "    </tr>\n",
       "  </tbody>\n",
       "</table>\n",
       "<p>430 rows × 3 columns</p>\n",
       "</div>"
      ],
      "text/plain": [
       "                                            email_hash    category filename\n",
       "0    b9f6f22276c919da793da65c76345ebb0b072257d12402...  \"Satchels\"      acc\n",
       "1    c2b5fa9e09ef2464a2b9ed7e351a5e1499823083c05791...    \"Purses\"      acc\n",
       "2    faaee0ff7d06b05313ecb75d46a9aed014b11023ca1af5...    \"Purses\"      acc\n",
       "3    5cd72da5035f2b36b604a16efc639cd04b6cfae7e487dc...   \"Wallets\"      acc\n",
       "4    00449a86bb34e443a5f84635661f63514574a030a15e2e...    \"Purses\"      acc\n",
       "..                                                 ...         ...      ...\n",
       "425  1f89b9e5e91e28b448103d8d14c8802382523934d439b9...  \"Satchels\"  clothes\n",
       "426  957f3cdcd5a5f9dcc0137377648b939c60d2fbb980110c...   \"Watches\"  clothes\n",
       "427  03ec8c2e6a17903af7f2a0b604127f91a6be38caa04d84...  \"Satchels\"  clothes\n",
       "428  3b13daf29e360d56a4e80046c763bd925b8cbe60870d5c...  \"Satchels\"  clothes\n",
       "429  99f59bddbb78a2ee92b520dd1674ae986f406809d6a1ea...  \"Satchels\"  clothes\n",
       "\n",
       "[430 rows x 3 columns]"
      ]
     },
     "execution_count": 12,
     "metadata": {},
     "output_type": "execute_result"
    }
   ],
   "source": [
    "#get the results\n",
    "combine_df"
   ]
  },
  {
   "cell_type": "code",
   "execution_count": null,
   "metadata": {},
   "outputs": [],
   "source": []
  }
 ],
 "metadata": {
  "kernelspec": {
   "display_name": "Python 3",
   "language": "python",
   "name": "python3"
  },
  "language_info": {
   "codemirror_mode": {
    "name": "ipython",
    "version": 3
   },
   "file_extension": ".py",
   "mimetype": "text/x-python",
   "name": "python",
   "nbconvert_exporter": "python",
   "pygments_lexer": "ipython3",
   "version": "3.7.4"
  },
  "toc": {
   "base_numbering": 1,
   "nav_menu": {},
   "number_sections": true,
   "sideBar": true,
   "skip_h1_title": false,
   "title_cell": "Table of Contents",
   "title_sidebar": "Contents",
   "toc_cell": false,
   "toc_position": {},
   "toc_section_display": true,
   "toc_window_display": false
  }
 },
 "nbformat": 4,
 "nbformat_minor": 5
}
